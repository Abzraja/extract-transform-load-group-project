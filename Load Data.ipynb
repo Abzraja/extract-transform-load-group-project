{
 "cells": [
  {
   "cell_type": "code",
   "execution_count": 2,
   "id": "b4c075d7",
   "metadata": {},
   "outputs": [],
   "source": [
    "import pandas as pd\n",
    "from sqlalchemy import create_engine, inspect\n",
    "from config import username, password"
   ]
  },
  {
   "cell_type": "code",
   "execution_count": null,
   "id": "75359985",
   "metadata": {},
   "outputs": [],
   "source": [
    "final_merged"
   ]
  }
 ],
 "metadata": {
  "kernelspec": {
   "display_name": "Python 3 (ipykernel)",
   "language": "python",
   "name": "python3"
  },
  "language_info": {
   "codemirror_mode": {
    "name": "ipython",
    "version": 3
   },
   "file_extension": ".py",
   "mimetype": "text/x-python",
   "name": "python",
   "nbconvert_exporter": "python",
   "pygments_lexer": "ipython3",
   "version": "3.9.6"
  }
 },
 "nbformat": 4,
 "nbformat_minor": 5
}
